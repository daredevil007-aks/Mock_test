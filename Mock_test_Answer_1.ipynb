{
 "cells": [
  {
   "cell_type": "code",
   "execution_count": 18,
   "id": "12aaedf1",
   "metadata": {},
   "outputs": [
    {
     "name": "stdout",
     "output_type": "stream",
     "text": [
      "0,1,0,3,12\n"
     ]
    },
    {
     "data": {
      "text/plain": [
       "[1, 3, 12, 0, 0]"
      ]
     },
     "execution_count": 18,
     "metadata": {},
     "output_type": "execute_result"
    }
   ],
   "source": [
    "#Ans_1\n",
    "\n",
    "def Zeros_seperator(nums): \n",
    "    list_1 = []\n",
    "    list_2 = []\n",
    "    for i in nums:\n",
    "        if i != 0:\n",
    "            list_1.append(i)\n",
    "        if i == 0:\n",
    "            list_2.append(i)\n",
    "    result = list_1+list_2\n",
    "    return result\n",
    "    \n",
    "Zeros_seperator(list(map(int,input(\"Enter a comma seperated numbers\").split(\",\"))))\n"
   ]
  }
 ],
 "metadata": {
  "kernelspec": {
   "display_name": "Python 3 (ipykernel)",
   "language": "python",
   "name": "python3"
  },
  "language_info": {
   "codemirror_mode": {
    "name": "ipython",
    "version": 3
   },
   "file_extension": ".py",
   "mimetype": "text/x-python",
   "name": "python",
   "nbconvert_exporter": "python",
   "pygments_lexer": "ipython3",
   "version": "3.9.12"
  }
 },
 "nbformat": 4,
 "nbformat_minor": 5
}
