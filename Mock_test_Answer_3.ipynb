{
 "cells": [
  {
   "cell_type": "code",
   "execution_count": 1,
   "id": "227766c8",
   "metadata": {},
   "outputs": [
    {
     "name": "stdout",
     "output_type": "stream",
     "text": [
      "True\n",
      "False\n",
      "30\n",
      "20\n",
      "10\n",
      "True\n"
     ]
    }
   ],
   "source": [
    "#Ans1\n",
    "class Stack:\n",
    "    def __init__(self):\n",
    "        self.stack = []\n",
    "    \n",
    "    def push(self, item):\n",
    "        self.stack.append(item)\n",
    "    \n",
    "    def pop(self):\n",
    "        if self.isEmpty():\n",
    "            raise Exception(\"Stack is empty.\")\n",
    "        return self.stack.pop()\n",
    "    \n",
    "    def isEmpty(self):\n",
    "        return len(self.stack) == 0\n",
    "    \n",
    "    \n",
    "stack = Stack()\n",
    "print(stack.isEmpty())  # True\n",
    "\n",
    "stack.push(10)\n",
    "stack.push(20)\n",
    "stack.push(30)\n",
    "\n",
    "print(stack.isEmpty())  # False\n",
    "\n",
    "print(stack.pop())  # 30\n",
    "print(stack.pop())  # 20\n",
    "print(stack.pop())  # 10\n",
    "\n",
    "print(stack.isEmpty()) \n"
   ]
  },
  {
   "cell_type": "code",
   "execution_count": 3,
   "id": "fdcf4c7a",
   "metadata": {},
   "outputs": [
    {
     "name": "stdout",
     "output_type": "stream",
     "text": [
      "True\n",
      "False\n",
      "10\n",
      "20\n",
      "30\n",
      "True\n"
     ]
    }
   ],
   "source": [
    "#Ans2\n",
    "\n",
    "class Queue:\n",
    "    def __init__(self):\n",
    "        self.queue = []\n",
    "    \n",
    "    def enqueue(self, item):\n",
    "        self.queue.append(item)\n",
    "    \n",
    "    def dequeue(self):\n",
    "        if self.isEmpty():\n",
    "            raise Exception(\"Queue is empty.\")\n",
    "        return self.queue.pop(0)\n",
    "    \n",
    "    def isEmpty(self):\n",
    "        return len(self.queue) == 0\n",
    "    \n",
    "queue = Queue()\n",
    "print(queue.isEmpty())  # True\n",
    "\n",
    "queue.enqueue(10)\n",
    "queue.enqueue(20)\n",
    "queue.enqueue(30)\n",
    "\n",
    "print(queue.isEmpty())  # False\n",
    "\n",
    "print(queue.dequeue())  # 10\n",
    "print(queue.dequeue())  # 20\n",
    "print(queue.dequeue())  # 30\n",
    "\n",
    "print(queue.isEmpty()) "
   ]
  }
 ],
 "metadata": {
  "kernelspec": {
   "display_name": "Python 3 (ipykernel)",
   "language": "python",
   "name": "python3"
  },
  "language_info": {
   "codemirror_mode": {
    "name": "ipython",
    "version": 3
   },
   "file_extension": ".py",
   "mimetype": "text/x-python",
   "name": "python",
   "nbconvert_exporter": "python",
   "pygments_lexer": "ipython3",
   "version": "3.10.9"
  }
 },
 "nbformat": 4,
 "nbformat_minor": 5
}
