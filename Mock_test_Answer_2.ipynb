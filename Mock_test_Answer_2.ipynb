{
 "cells": [
  {
   "cell_type": "code",
   "execution_count": 1,
   "id": "0028d87c",
   "metadata": {},
   "outputs": [
    {
     "name": "stdout",
     "output_type": "stream",
     "text": [
      "Enter a String leetcode\n"
     ]
    },
    {
     "data": {
      "text/plain": [
       "0"
      ]
     },
     "execution_count": 1,
     "metadata": {},
     "output_type": "execute_result"
    }
   ],
   "source": [
    "#Ans_2\n",
    "\n",
    "def Non_repeatative(String_1):\n",
    "    Dict_1 = {}\n",
    "    for i in String_1:\n",
    "        if i in String_1:\n",
    "            Dict_1[i] =String_1.count(i)\n",
    "            for i in Dict_1.values():\n",
    "                if i == 1:\n",
    "                    t = list(Dict_1.keys())\n",
    "                    Non_repeat = str(t[0])\n",
    "                    if Non_repeat in String_1:\n",
    "                        result = String_1.index(Non_repeat)\n",
    "                    return result\n",
    "                            \n",
    "    else:\n",
    "        return -1\n",
    "\n",
    "Non_repeatative(str(input(\"Enter a String \")))"
   ]
  }
 ],
 "metadata": {
  "kernelspec": {
   "display_name": "Python 3 (ipykernel)",
   "language": "python",
   "name": "python3"
  },
  "language_info": {
   "codemirror_mode": {
    "name": "ipython",
    "version": 3
   },
   "file_extension": ".py",
   "mimetype": "text/x-python",
   "name": "python",
   "nbconvert_exporter": "python",
   "pygments_lexer": "ipython3",
   "version": "3.9.12"
  }
 },
 "nbformat": 4,
 "nbformat_minor": 5
}
