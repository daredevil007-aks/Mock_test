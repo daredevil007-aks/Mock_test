{
 "cells": [
  {
   "cell_type": "code",
   "execution_count": 3,
   "id": "3616ed69",
   "metadata": {},
   "outputs": [
    {
     "data": {
      "text/plain": [
       "2"
      ]
     },
     "execution_count": 3,
     "metadata": {},
     "output_type": "execute_result"
    }
   ],
   "source": [
    "#ANS1\n",
    "def mySqrt(x):\n",
    "    if x == 0:\n",
    "        return 0\n",
    "    \n",
    "    left = 1\n",
    "    right = x\n",
    "    \n",
    "    while left <= right:\n",
    "        mid = left + (right - left) // 2\n",
    "        \n",
    "        if mid * mid > x:\n",
    "            right = mid - 1\n",
    "        else:\n",
    "            left = mid + 1\n",
    "            \n",
    "    return right\n",
    "\n",
    "mySqrt(8)"
   ]
  },
  {
   "cell_type": "code",
   "execution_count": 5,
   "id": "b14f4960",
   "metadata": {},
   "outputs": [],
   "source": [
    "#ANS2\n",
    "class ListNode:\n",
    "    def __init__(self, val=0, next=None):\n",
    "        self.val = val\n",
    "        self.next = next\n",
    "\n",
    "def addTwoNumbers(l1, l2):\n",
    "    dummy = ListNode(0)  # Create a dummy node as the head of the result linked list\n",
    "    curr = dummy  # Pointer to traverse the result list\n",
    "    carry = 0  # Carry-over value initialized to 0\n",
    "\n",
    "    while l1 or l2 or carry:\n",
    "        sum = (l1.val if l1 else 0) + (l2.val if l2 else 0) + carry\n",
    "        carry = sum // 10  # Calculate the carry-over\n",
    "        digit = sum % 10  # Calculate the current digit\n",
    "\n",
    "        curr.next = ListNode(digit)  # Create a new node with the current digit\n",
    "        curr = curr.next  # Move the pointer to the next node\n",
    "\n",
    "        if l1:\n",
    "            l1 = l1.next\n",
    "        if l2:\n",
    "            l2 = l2.next\n",
    "\n",
    "    return dummy.next\n",
    "\n",
    "l1 = ListNode(9)\n",
    "l1.next = ListNode(9)\n",
    "l1.next.next = ListNode(9)\n",
    "l1.next.next.next = ListNode(9)\n",
    "l1.next.next.next.next = ListNode(9)\n",
    "l1.next.next.next.next.next = ListNode(9)\n",
    "l1.next.next.next.next.next.next = ListNode(9)\n",
    "\n",
    "# Linked List 2: 9 -> 9 -> 9 -> 9\n",
    "l2 = ListNode(9)\n",
    "l2.next = ListNode(9)\n",
    "l2.next.next = ListNode(9)\n",
    "l2.next.next.next = ListNode(9)"
   ]
  }
 ],
 "metadata": {
  "kernelspec": {
   "display_name": "Python 3 (ipykernel)",
   "language": "python",
   "name": "python3"
  },
  "language_info": {
   "codemirror_mode": {
    "name": "ipython",
    "version": 3
   },
   "file_extension": ".py",
   "mimetype": "text/x-python",
   "name": "python",
   "nbconvert_exporter": "python",
   "pygments_lexer": "ipython3",
   "version": "3.9.12"
  }
 },
 "nbformat": 4,
 "nbformat_minor": 5
}
